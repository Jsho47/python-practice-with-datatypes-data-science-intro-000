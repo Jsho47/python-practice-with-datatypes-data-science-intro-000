{
 "cells": [
  {
   "cell_type": "markdown",
   "metadata": {},
   "source": [
    "# Practice with Data Types"
   ]
  },
  {
   "cell_type": "markdown",
   "metadata": {},
   "source": [
    "## Introduction"
   ]
  },
  {
   "cell_type": "markdown",
   "metadata": {},
   "source": [
    "In the past few lessons, you learned about working with different types of data in Python: strings, numbers (ints and floats), and booleans.  Now, you'll put that knowledge into action.\n",
    "\n",
    "Imagine that you're at a business event and exchanged business cards with a few people. One of the business cards belongs to Art Vandelay, a new travel agent. Here, you'll use your programming skills to format this information correctly.  "
   ]
  },
  {
   "cell_type": "markdown",
   "metadata": {},
   "source": [
    "## Learning Objectives\n",
    "* Manipulate strings with built-in methods\n",
    "* Practice coercing data types and changing numbers"
   ]
  },
  {
   "cell_type": "markdown",
   "metadata": {},
   "source": [
    "## Here to mingle "
   ]
  },
  {
   "cell_type": "markdown",
   "metadata": {},
   "source": [
    "The next morning you take out the business card, ready to format it using your programming skills, and here is what we find."
   ]
  },
  {
   "cell_type": "markdown",
   "metadata": {},
   "source": [
    "![](https://learn-verified.s3.amazonaws.com/data-science-assets/biz-card-mistakes.jpg)"
   ]
  },
  {
   "cell_type": "markdown",
   "metadata": {},
   "source": [
    "## String Transformations"
   ]
  },
  {
   "cell_type": "markdown",
   "metadata": {},
   "source": [
    "When storing text in a spreadsheet or database programmatically, you will often preprocess the data to ensure that it is properly formatted. For example, you might ensure that a telephone number matches the required format, or that a field on a web form is filled out. \n",
    "\n",
    "Here's a simple example of how you might go about doing this:"
   ]
  },
  {
   "cell_type": "code",
   "execution_count": 1,
   "metadata": {},
   "outputs": [
    {
     "data": {
      "text/plain": [
       "'ART VANDELAY'"
      ]
     },
     "execution_count": 1,
     "metadata": {},
     "output_type": "execute_result"
    }
   ],
   "source": [
    "name = \"art vandelay\" # \"ART VANDELAY\"\n",
    "name.upper()"
   ]
  },
  {
   "cell_type": "markdown",
   "metadata": {},
   "source": [
    "If you haven't already, put your cursor into the cell above and press `shift + enter` to run the code in the cell. You should see an updated output produced by the `.upper()` string method. "
   ]
  },
  {
   "cell_type": "markdown",
   "metadata": {},
   "source": [
    "Another important note is the hashtag `#`. In python, hashtags indicate a comment. Comments are notes used to provide additional information but are ignored by the computer when running the code. "
   ]
  },
  {
   "cell_type": "code",
   "execution_count": 2,
   "metadata": {},
   "outputs": [
    {
     "data": {
      "text/plain": [
       "'hello'"
      ]
     },
     "execution_count": 2,
     "metadata": {},
     "output_type": "execute_result"
    }
   ],
   "source": [
    "'hello' ### whattttt"
   ]
  },
  {
   "cell_type": "markdown",
   "metadata": {},
   "source": [
    "After pressing shift+enter on the cell above, you'll see that Python ignores the comment. In Flatiron coding labs, a comment will be provided to indicate what you are aiming to have the code return. This allows you to then easily check your answer upon running your code."
   ]
  },
  {
   "cell_type": "markdown",
   "metadata": {},
   "source": [
    "## Get going with strings\n",
    "\n",
    "With that, use the appropriate string method to transform each string to match the desired output in the comment."
   ]
  },
  {
   "cell_type": "markdown",
   "metadata": {},
   "source": [
    "Use the `title` method to capitalize the first letter of each word in \"art vandelay\"`."
   ]
  },
  {
   "cell_type": "code",
   "execution_count": 3,
   "metadata": {},
   "outputs": [
    {
     "data": {
      "text/plain": [
       "'Art Vandelay'"
      ]
     },
     "execution_count": 3,
     "metadata": {},
     "output_type": "execute_result"
    }
   ],
   "source": [
    "\"art vandelay\" # 'Art Vandelay'\n",
    "name.title()"
   ]
  },
  {
   "cell_type": "markdown",
   "metadata": {},
   "source": [
    "Now use the `upper` method to capitalize all of the letters of \"Ceo\"."
   ]
  },
  {
   "cell_type": "code",
   "execution_count": 5,
   "metadata": {},
   "outputs": [
    {
     "data": {
      "text/plain": [
       "'CEO'"
      ]
     },
     "execution_count": 5,
     "metadata": {},
     "output_type": "execute_result"
    }
   ],
   "source": [
    "\"Ceo\" # 'CEO'\n",
    "\"Ceo\".upper()"
   ]
  },
  {
   "cell_type": "markdown",
   "metadata": {},
   "source": [
    "Next, write a method that verifies whether an email addresses is valid. To make this introductory example simple, assume that every email address should end with \".com\".  With that, use your knowledge of string methods to check if the email address ends with \".com\" and return `True` or `False` accordingly. "
   ]
  },
  {
   "cell_type": "code",
   "execution_count": null,
   "metadata": {},
   "outputs": [
    {
     "name": "stdout",
     "output_type": "stream",
     "text": [
      "\n",
      "Welcome to Python 3.6's help utility!\n",
      "\n",
      "If this is your first time using Python, you should definitely check out\n",
      "the tutorial on the Internet at https://docs.python.org/3.6/tutorial/.\n",
      "\n",
      "Enter the name of any module, keyword, or topic to get help on writing\n",
      "Python programs and using Python modules.  To quit this help utility and\n",
      "return to the interpreter, just type \"quit\".\n",
      "\n",
      "To get a list of available modules, keywords, symbols, or topics, type\n",
      "\"modules\", \"keywords\", \"symbols\", or \"topics\".  Each module also comes\n",
      "with a one-line summary of what it does; to list the modules whose name\n",
      "or summary contain a given string such as \"spam\", type \"modules spam\".\n",
      "\n",
      "help> \"modules\"\n",
      "\n",
      "Please wait a moment while I gather a list of all available modules...\n",
      "\n"
     ]
    },
    {
     "name": "stderr",
     "output_type": "stream",
     "text": [
      "/opt/conda/envs/learn-env/lib/python3.6/site-packages/IPython/kernel/__init__.py:13: ShimWarning: The `IPython.kernel` package has been deprecated since IPython 4.0.You should import from ipykernel or jupyter_client instead.\n",
      "  \"You should import from ipykernel or jupyter_client instead.\", ShimWarning)\n",
      "Using TensorFlow backend.\n",
      "/opt/conda/envs/learn-env/lib/python3.6/site-packages/tensorflow/python/framework/dtypes.py:517: FutureWarning: Passing (type, 1) or '1type' as a synonym of type is deprecated; in a future version of numpy, it will be understood as (type, (1,)) / '(1,)type'.\n",
      "  _np_qint8 = np.dtype([(\"qint8\", np.int8, 1)])\n",
      "/opt/conda/envs/learn-env/lib/python3.6/site-packages/tensorflow/python/framework/dtypes.py:518: FutureWarning: Passing (type, 1) or '1type' as a synonym of type is deprecated; in a future version of numpy, it will be understood as (type, (1,)) / '(1,)type'.\n",
      "  _np_quint8 = np.dtype([(\"quint8\", np.uint8, 1)])\n",
      "/opt/conda/envs/learn-env/lib/python3.6/site-packages/tensorflow/python/framework/dtypes.py:519: FutureWarning: Passing (type, 1) or '1type' as a synonym of type is deprecated; in a future version of numpy, it will be understood as (type, (1,)) / '(1,)type'.\n",
      "  _np_qint16 = np.dtype([(\"qint16\", np.int16, 1)])\n",
      "/opt/conda/envs/learn-env/lib/python3.6/site-packages/tensorflow/python/framework/dtypes.py:520: FutureWarning: Passing (type, 1) or '1type' as a synonym of type is deprecated; in a future version of numpy, it will be understood as (type, (1,)) / '(1,)type'.\n",
      "  _np_quint16 = np.dtype([(\"quint16\", np.uint16, 1)])\n",
      "/opt/conda/envs/learn-env/lib/python3.6/site-packages/tensorflow/python/framework/dtypes.py:521: FutureWarning: Passing (type, 1) or '1type' as a synonym of type is deprecated; in a future version of numpy, it will be understood as (type, (1,)) / '(1,)type'.\n",
      "  _np_qint32 = np.dtype([(\"qint32\", np.int32, 1)])\n",
      "/opt/conda/envs/learn-env/lib/python3.6/site-packages/tensorflow/python/framework/dtypes.py:526: FutureWarning: Passing (type, 1) or '1type' as a synonym of type is deprecated; in a future version of numpy, it will be understood as (type, (1,)) / '(1,)type'.\n",
      "  np_resource = np.dtype([(\"resource\", np.ubyte, 1)])\n",
      "/opt/conda/envs/learn-env/lib/python3.6/site-packages/nltk/twitter/__init__.py:22: UserWarning: The twython library has not been installed. Some functionality from the twitter package will not be available.\n",
      "  \"The twython library has not been installed. \"\n",
      "/opt/conda/envs/learn-env/lib/python3.6/site-packages/sklearn/externals/joblib/__init__.py:15: DeprecationWarning:\n",
      "\n",
      "sklearn.externals.joblib is deprecated in 0.21 and will be removed in 0.23. Please import this functionality directly from joblib, which can be installed with: pip install joblib. If this warning is raised when loading pickled models, you may need to re-serialize those models with scikit-learn 0.21+.\n",
      "\n",
      "/opt/conda/envs/learn-env/lib/python3.6/pkgutil.py:107: VisibleDeprecationWarning:\n",
      "\n",
      "zmq.eventloop.minitornado is deprecated in pyzmq 14.0 and will be removed.\n",
      "    Install tornado itself to use zmq with the tornado IOLoop.\n",
      "    \n",
      "\n"
     ]
    },
    {
     "name": "stdout",
     "output_type": "stream",
     "text": [
      "Cython              blinker             jupyter_client      rlcompleter\n",
      "IPython             boto                jupyter_core        rmagic\n",
      "OpenSSL             boto3               jupyterhub          runpy\n",
      "PyQt5               botocore            jupyterlab          s3transfer\n",
      "__future__          branca              jupyterlab_server   sched\n",
      "_ast                bs4                 jwt                 scipy\n",
      "_asyncio            builtins            keras               seaborn\n",
      "_bisect             bz2                 keras_applications  secrets\n",
      "_blake2             bz2file             keras_preprocessing select\n",
      "_bootlocale         cProfile            keyword             selectors\n",
      "_bz2                calendar            kiwisolver          send2trash\n",
      "_cffi_backend       certifi             lib2to3             setuptools\n",
      "_codecs             certipy             linecache           shelve\n",
      "_codecs_cn          cffi                locale              shlex\n",
      "_codecs_hk          cgi                 logging             shutil\n",
      "_codecs_iso2022     cgitb               lzma                signal\n",
      "_codecs_jp          chardet             macpath             simplegeneric\n",
      "_codecs_kr          chunk               macurl2path         sip\n",
      "_codecs_tw          cmath               mailbox             sipconfig\n",
      "_collections        cmd                 mailcap             sipdistutils\n",
      "_collections_abc    code                mako                site\n",
      "_compat_pickle      codecs              markdown            six\n",
      "_compression        codeop              markupsafe          sklearn\n",
      "_crypt              collections         marshal             smart_open\n",
      "_csv                colorsys            math                smtpd\n",
      "_ctypes             compileall          matplotlib          smtplib\n",
      "_ctypes_test        concurrent          mimetypes           sndhdr\n",
      "_curses             configparser        mistune             socket\n",
      "_curses_panel       contextlib          mkl                 socketserver\n",
      "_datetime           copy                mkl_fft             socks\n",
      "_decimal            copyreg             mkl_random          sockshandler\n",
      "_dummy_thread       crypt               mmap                soupsieve\n",
      "_elementtree        cryptography        modulefinder        spwd\n",
      "_functools          cryptography_vectors more_itertools      sqlalchemy\n",
      "_hashlib            csv                 multiprocessing     sqlite3\n",
      "_heapq              ctypes              nb_conda            sre_compile\n",
      "_imp                curl                nb_conda_kernels    sre_constants\n",
      "_io                 curses              nbconvert           sre_parse\n",
      "_json               cycler              nbformat            ssl\n",
      "_locale             cython              netrc               stat\n",
      "_lsprof             cythonmagic         networkx            statistics\n",
      "_lzma               datetime            nis                 statsmodels\n",
      "_markupbase         dateutil            nltk                storemagic\n",
      "_md5                dbm                 nntplib             string\n",
      "_multibytecodec     decimal             notebook            stringprep\n",
      "_multiprocessing    decorator           ntpath              struct\n",
      "_opcode             defusedxml          nturl2path          subprocess\n",
      "_operator           difflib             numbers             sunau\n",
      "_osx_support        dis                 numpy               symbol\n",
      "_pickle             distutils           oauthlib            sympyprinting\n",
      "_plotly_future_     docs                obscure             symtable\n",
      "_plotly_utils       doctest             opcode              sys\n",
      "_posixsubprocess    docutils            operator            sysconfig\n",
      "_pydecimal          dummy_threading     optparse            syslog\n",
      "_pyio               easy_install        os                  tabnanny\n",
      "_pyrsistent_version editor              ossaudiodev         tarfile\n",
      "_pytest             email               pamela              telnetlib\n",
      "_random             encodings           pandas              tempfile\n",
      "_sha1               ensurepip           pandocfilters       tensorboard\n",
      "_sha256             entrypoints         parser              tensorflow\n",
      "_sha3               enum                parso               termcolor\n",
      "_sha512             errno               pathlib             terminado\n",
      "_signal             external            patsy               termios\n",
      "_sitebuiltins       faulthandler        pdb                 test\n",
      "_socket             fcntl               pexpect             testpath\n",
      "_sqlite3            filecmp             pickle              tests\n",
      "_sre                fileinput           pickleshare         textwrap\n",
      "_ssl                fnmatch             pickletools         this\n",
      "_stat               folium              pip                 threading\n",
      "_string             formatter           pipes               time\n",
      "_strptime           fractions           pkg_resources       timeit\n",
      "_struct             ftplib              pkgutil             tkinter\n",
      "_symtable           functools           platform            token\n",
      "_sysconfigdata_i686_conda_cos6_linux_gnu gast                plistlib            tokenize\n",
      "_sysconfigdata_m_linux_x86_64-linux-gnu gc                  plotly              tornado\n",
      "_sysconfigdata_powerpc64le_conda_cos7_linux_gnu genericpath         plotlywidget        tqdm\n",
      "_sysconfigdata_x86_64_apple_darwin13_4_0 gensim              pluggy              trace\n",
      "_sysconfigdata_x86_64_conda_cos6_linux_gnu getopt              poplib              traceback\n",
      "_testbuffer         getpass             posix               tracemalloc\n",
      "_testcapi           gettext             posixpath           traitlets\n",
      "_testimportmultiple glob                pprint              tty\n",
      "_testmultiphase     graphviz            profile             turtle\n",
      "_thread             grp                 prometheus_client   turtledemo\n",
      "_threading_local    grpc                prompt_toolkit      types\n",
      "_tkinter            gzip                pstats              typing\n",
      "_tracemalloc        h5py                pty                 unicodedata\n",
      "_warnings           hashlib             ptyprocess          unittest\n",
      "_weakref            heapq               pvectorc            urllib\n",
      "_weakrefset         hmac                pwd                 urllib3\n",
      "_yaml               html                py                  uu\n",
      "abc                 html5lib            py4j                uuid\n",
      "absl                http                py_compile          venv\n",
      "aifc                idlelib             pyclbr              warnings\n",
      "alembic             idna                pycparser           wave\n",
      "antigravity         imaplib             pycurl              wcwidth\n",
      "argparse            imblearn            pydoc               weakref\n",
      "array               imghdr              pydoc_data          webbrowser\n",
      "asn1crypto          imp                 pydotplus           webencodings\n",
      "ast                 importlib           pyexpat             werkzeug\n",
      "astor               importlib_metadata  pygments            wheel\n",
      "async_generator     inspect             pylab               wsgiref\n",
      "asynchat            io                  pyparsing           xdrlib\n",
      "asyncio             ipaddress           pyrsistent          xgboost\n",
      "asyncore            ipykernel           pyspark             xlrd\n",
      "atexit              ipykernel_launcher  pytest              xml\n",
      "atomicwrites        ipynb               pytz                xmlrpc\n",
      "attr                ipython_genutils    pyximport           xxlimited\n",
      "audioop             itertools           queue               xxsubtype\n",
      "autoreload          jedi                quopri              yaml\n",
      "backcall            jinja2              random              zipapp\n",
      "base64              jmespath            re                  zipfile\n",
      "bdb                 joblib              readline            zipimport\n",
      "binascii            json                reprlib             zipp\n",
      "binhex              json5               requests            zlib\n",
      "bisect              jsonschema          resource            zmq\n",
      "bleach              jupyter             retrying            \n",
      "\n",
      "Enter any module name to get more help.  Or, type \"modules spam\" to search\n",
      "for modules whose name or summary contain the string \"spam\".\n",
      "\n"
     ]
    }
   ],
   "source": [
    "\"art.vandelay@vandelay.co\" # False\n",
    "\"art.vandelay@vandelay.co\"=\"artvandelay@c\""
   ]
  },
  {
   "cell_type": "markdown",
   "metadata": {},
   "source": [
    "As you can see below, the website \"vandelay.com\" is not preceded by `\"www.\"`. You can perform string concatenation to fix this! string concatenation allows you to join two strings. It works just like numerical addition. For example, ```\"This is the start\" + \"and this is the end\"``` would return ```\"This is the start and this is the end\"```. Use string concatenation to change the website `'vandelay.com'` to the string `'www.vandelay.com'` by prepending `'www.'`."
   ]
  },
  {
   "cell_type": "code",
   "execution_count": null,
   "metadata": {
    "collapsed": true,
    "scrolled": true
   },
   "outputs": [],
   "source": [
    "'vandelay.com' # 'www.vandelay.com'"
   ]
  },
  {
   "cell_type": "markdown",
   "metadata": {},
   "source": [
    "## String Slicing"
   ]
  },
  {
   "cell_type": "markdown",
   "metadata": {},
   "source": [
    "Finally, Mr. Vandelay gave us his phone number. Extract the area code by selecting the first three characters of the string. You can do this using brackets to select characters from the string as in ```\"George\"[:4]``` which would return ```\"Geor\"```."
   ]
  },
  {
   "cell_type": "code",
   "execution_count": null,
   "metadata": {
    "collapsed": true
   },
   "outputs": [],
   "source": [
    "\"7285553334\" # 728"
   ]
  },
  {
   "cell_type": "markdown",
   "metadata": {},
   "source": [
    "## Summary"
   ]
  },
  {
   "cell_type": "markdown",
   "metadata": {},
   "source": [
    "Congratulations! You just completed your first lab! You practiced working with string methods to operate on and answer questions about strings. You also used methods that return Booleans and sliced strings. So much of working with data is ensuring that it is properly formatted and in this lab, you started practicing your data wrangling skills."
   ]
  }
 ],
 "metadata": {
  "kernelspec": {
   "display_name": "Python 3",
   "language": "python",
   "name": "python3"
  },
  "language_info": {
   "codemirror_mode": {
    "name": "ipython",
    "version": 3
   },
   "file_extension": ".py",
   "mimetype": "text/x-python",
   "name": "python",
   "nbconvert_exporter": "python",
   "pygments_lexer": "ipython3",
   "version": "3.6.9"
  }
 },
 "nbformat": 4,
 "nbformat_minor": 2
}
